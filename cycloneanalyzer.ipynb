{
 "cells": [
  {
   "cell_type": "markdown",
   "metadata": {},
   "source": [
    "##                                         Cyclone Analyzer"
   ]
  },
  {
   "cell_type": "markdown",
   "metadata": {},
   "source": [
    "##### Import necessory libraries"
   ]
  },
  {
   "cell_type": "code",
   "execution_count": 1,
   "metadata": {},
   "outputs": [],
   "source": [
    "from PIL import Image\n",
    "import math\n",
    "import cv2\n",
    "import matplotlib.pyplot as plt"
   ]
  },
  {
   "cell_type": "markdown",
   "metadata": {},
   "source": [
    "##### Measurement of Image"
   ]
  },
  {
   "cell_type": "code",
   "execution_count": 2,
   "metadata": {},
   "outputs": [
    {
     "name": "stdout",
     "output_type": "stream",
     "text": [
      "width = 940 height = 626\n"
     ]
    }
   ],
   "source": [
    "img1 = Image.open('1.jpg')\n",
    "width,height = img1.size\n",
    "print('width =',width,'height =',height)"
   ]
  },
  {
   "cell_type": "markdown",
   "metadata": {},
   "source": [
    "##### Detection of locations/dots"
   ]
  },
  {
   "cell_type": "markdown",
   "metadata": {},
   "source": [
    "Following functions detect if it is a circle (red/green/blue) or not at current location"
   ]
  },
  {
   "cell_type": "code",
   "execution_count": 3,
   "metadata": {},
   "outputs": [],
   "source": [
    "def is_circle1(img_data,x,y):\n",
    "    count=0\n",
    "    for i in range(8):\n",
    "        for j in range(8):\n",
    "            if img_data[x+i,y+j] :\n",
    "                count = count +1\n",
    "    \n",
    "    return count>20\n",
    "\n",
    "def is_circle2(img_data,x,y):\n",
    "    count=0\n",
    "    for i in range(8):\n",
    "        for j in range(8):\n",
    "            if img_data[x-i,y-j] :\n",
    "                count = count +1\n",
    "    \n",
    "\n",
    "    return count>20\n",
    "        "
   ]
  },
  {
   "cell_type": "markdown",
   "metadata": {},
   "source": [
    "This function \"detect_points\" takes three arguments image, color of dot which is to detect, and number of dots. "
   ]
  },
  {
   "cell_type": "code",
   "execution_count": 4,
   "metadata": {},
   "outputs": [],
   "source": [
    "def detect_points(img,color,n):\n",
    "    height,width,channel = img.shape\n",
    "    # print(width,height)\n",
    "    img_hsv = cv2.cvtColor(img, cv2.COLOR_BGR2HSV)\n",
    "\n",
    "    # HSV constrain for red color\n",
    "    if color=='red':\n",
    "        range1 = cv2.inRange(img_hsv, (0,50,20), (5,255,255))\n",
    "        range2 = cv2.inRange(img_hsv, (175,50,20), (180,255,255))\n",
    "        img1_data = cv2.bitwise_or(range1, range2 )\n",
    "\n",
    "    # HSV constrain for green color\n",
    "    if color=='green':\n",
    "        img1_data = cv2.inRange(img_hsv, (50, 100, 100), (70, 255, 255))\n",
    "\n",
    "    # HSV constrain for blue color\n",
    "    if color=='blue':\n",
    "        img1_data = cv2.inRange(img_hsv, (110,50,50), (130,255,255))\n",
    "        \n",
    "\n",
    "    # It detects left top first point of circle/dot\n",
    "    listofp1 = []\n",
    "    flag=n\n",
    "    k=0\n",
    "\n",
    "    for i in range(width):\n",
    "        for j in range(height):\n",
    "            if i+k>=width :\n",
    "                flag=0\n",
    "                break\n",
    "            if img1_data[j,i+k] and is_circle1(img1_data,j,i+k):\n",
    "                flag=flag-1\n",
    "                # print(i+k,j)\n",
    "                listofp1.append((j,i+k))\n",
    "                k=10*(n-flag)\n",
    "                break\n",
    "        if flag==0:\n",
    "            break\n",
    "    \n",
    "    # print(listofp1)\n",
    "    \n",
    "\n",
    "    # It detects right bottem first point of circle/dot\n",
    "    listofp2 = []\n",
    "    flag=n\n",
    "    k=0\n",
    "    for i in range(width):\n",
    "        for j in range(height):\n",
    "            if i-k<0 :\n",
    "                flag=0\n",
    "                break\n",
    "            if img1_data[height-1-j,width-1-i-k] and is_circle2(img1_data,height-1-j,width-1-i-k):\n",
    "                flag=flag-1\n",
    "                # print(i+k,j)\n",
    "                listofp2.append((height-1-j,width-1-i-k))\n",
    "                k=10*(n-flag)\n",
    "                break\n",
    "        if flag==0:\n",
    "            break\n",
    "\n",
    "    listofp2.reverse()\n",
    "    # print(listofp2)\n",
    "\n",
    "    # It Calculates center of circle, mid point of a diameter, diameter points are stored in \"listofp1\" and \"listofp2\"\n",
    "    ans = []\n",
    "    for i in range(len(listofp1)):\n",
    "        ans.append(((listofp1[i][1]+listofp2[i][1])/2,(listofp1[i][0]+listofp2[i][0])/2))\n",
    "    \n",
    "    return ans"
   ]
  },
  {
   "cell_type": "markdown",
   "metadata": {},
   "source": [
    "Following cell collects all relevant points using/calling above \"detect_points\" function from all images(1.jpg,2.jpg,3.jpg)"
   ]
  },
  {
   "cell_type": "code",
   "execution_count": 5,
   "metadata": {},
   "outputs": [
    {
     "name": "stdout",
     "output_type": "stream",
     "text": [
      "Mauritius: (362.5, 498.5)\n",
      "Reunion: (416.0, 474.5)\n",
      "Antananarivo: (139.5, 436.5)\n",
      "Antsiranana: (200.5, 267.5)\n",
      "Benonoka: (94.5, 617.5)\n",
      "belna_p1: (238.5, 113.5) ambali_p1: (546.5, 180.5)\n",
      "belna_p2: (223.5, 121.5) ambali_p2: (539.5, 188.5)\n",
      "belna_p3: (216.5, 133.5) ambali_p3: (528.5, 195.5)\n"
     ]
    }
   ],
   "source": [
    "img1 = cv2.imread(\"1.jpg\")\n",
    "points_r1 = detect_points(img1,'red',2) \n",
    "belna_p1=points_r1[0]\n",
    "ambali_p1=points_r1[1] \n",
    "\n",
    "img2 = cv2.imread(\"2.jpg\")\n",
    "points_r2 = detect_points(img2,'red',2) \n",
    "belna_p2=points_r2[0]\n",
    "ambali_p2=points_r2[1]\n",
    "\n",
    "img3 = cv2.imread(\"3.jpg\")\n",
    "points_r3 = detect_points(img3,'red',2) \n",
    "belna_p3=points_r3[0]\n",
    "ambali_p3=points_r3[1] \n",
    "\n",
    "points_b = detect_points(img1,'blue',2) \n",
    "Mauritius=points_b[0]\n",
    "Reunion=points_b[1] \n",
    "\n",
    "print('Mauritius:',Mauritius)\n",
    "print('Reunion:',Reunion)\n",
    "\n",
    "points_g = detect_points(img1,'green',3) \n",
    "\n",
    "Benonoka=points_g[0]\n",
    "Antananarivo=points_g[1]\n",
    "Antsiranana=points_g[2]\n",
    "\n",
    "print('Antananarivo:' ,Antananarivo)\n",
    "print('Antsiranana:' ,Antsiranana)\n",
    "print('Benonoka:' ,Benonoka)\n",
    "\n",
    "print('belna_p1:',belna_p1,'ambali_p1:',ambali_p1)\n",
    "print('belna_p2:',belna_p2,'ambali_p2:',ambali_p2)\n",
    "print('belna_p3:',belna_p3,'ambali_p3:',ambali_p3)"
   ]
  },
  {
   "cell_type": "markdown",
   "metadata": {},
   "source": [
    "##### Assumptions"
   ]
  },
  {
   "cell_type": "markdown",
   "metadata": {},
   "source": [
    "1. Both cyclones continue alont the same route (straight line) after the last satellite image capture.\n",
    "2. Both cyclones move with constant velocity/speed after the last satellite image capture.\n",
    "3. The distance ratio of px to km is approximated by simply taking average. (Earth is Spherical but Image is flat) "
   ]
  },
  {
   "cell_type": "markdown",
   "metadata": {},
   "source": [
    "##### Equation of lines and Point of Intersection\n",
    "y = -1.714286*x + 504.642857        and \n",
    "     y = -0.636364*x + 531.818182"
   ]
  },
  {
   "cell_type": "code",
   "execution_count": 6,
   "metadata": {},
   "outputs": [
    {
     "data": {
      "text/plain": [
       "<matplotlib.image.AxesImage at 0x2455e920f70>"
      ]
     },
     "execution_count": 6,
     "metadata": {},
     "output_type": "execute_result"
    },
    {
     "data": {
      "image/png": "[encoded data removed]",
      "text/plain": [
       "<Figure size 432x288 with 1 Axes>"
      ]
     },
     "metadata": {
      "needs_background": "light"
     },
     "output_type": "display_data"
    }
   ],
   "source": [
    "fig1 = Image.open('figure1.jpg')\n",
    "plt.imshow(fig1)"
   ]
  },
  {
   "cell_type": "code",
   "execution_count": 7,
   "metadata": {},
   "outputs": [
    {
     "name": "stdout",
     "output_type": "stream",
     "text": [
      "Point of Intersection: (-25.211, 547.861)\n"
     ]
    }
   ],
   "source": [
    "# Point of intersection\n",
    "poi = (-25.211,547.861) \n",
    "print('Point of Intersection:',poi)"
   ]
  },
  {
   "cell_type": "markdown",
   "metadata": {},
   "source": [
    "##### Average Distance Ratio of Pixel to Km"
   ]
  },
  {
   "cell_type": "markdown",
   "metadata": {},
   "source": [
    "Pixel distance btween Antsiranana and Benonoka.\n",
    "Given distance = 1500km"
   ]
  },
  {
   "cell_type": "code",
   "execution_count": 8,
   "metadata": {},
   "outputs": [
    {
     "name": "stdout",
     "output_type": "stream",
     "text": [
      "365.6993300513415\n"
     ]
    }
   ],
   "source": [
    "px_dist_AntBen = math.sqrt((Antsiranana[0]-Benonoka[0])**2 +(Antsiranana[1]-Benonoka[1])**2)\n",
    "print(px_dist_AntBen)\n",
    "given_dist_AntBen =1500 "
   ]
  },
  {
   "cell_type": "markdown",
   "metadata": {},
   "source": [
    "Distance Ratio of Pixel to Km"
   ]
  },
  {
   "cell_type": "code",
   "execution_count": 9,
   "metadata": {},
   "outputs": [
    {
     "name": "stdout",
     "output_type": "stream",
     "text": [
      "4.101730237759558\n"
     ]
    }
   ],
   "source": [
    "one_px_AntBen = given_dist_AntBen/px_dist_AntBen\n",
    "print(one_px_AntBen)"
   ]
  },
  {
   "cell_type": "markdown",
   "metadata": {},
   "source": [
    "Pixel distance btween Mauritius and Reunion.\n",
    "Given distance = 250km"
   ]
  },
  {
   "cell_type": "code",
   "execution_count": 10,
   "metadata": {},
   "outputs": [
    {
     "name": "stdout",
     "output_type": "stream",
     "text": [
      "58.63659267044769\n"
     ]
    }
   ],
   "source": [
    "px_dist_MurRun = math.sqrt((Mauritius[0]-Reunion[0])**2 +(Mauritius[1]-Reunion[1])**2)\n",
    "print(px_dist_MurRun)\n",
    "given_dist_MurRun =250"
   ]
  },
  {
   "cell_type": "markdown",
   "metadata": {},
   "source": [
    "Distance Ratio of Pixel to Km"
   ]
  },
  {
   "cell_type": "code",
   "execution_count": 11,
   "metadata": {},
   "outputs": [
    {
     "name": "stdout",
     "output_type": "stream",
     "text": [
      "4.263549238016992\n"
     ]
    }
   ],
   "source": [
    "one_px_MurRun = given_dist_MurRun/px_dist_MurRun\n",
    "print(one_px_MurRun)"
   ]
  },
  {
   "cell_type": "markdown",
   "metadata": {},
   "source": [
    "Average Distance Ratio"
   ]
  },
  {
   "cell_type": "code",
   "execution_count": 12,
   "metadata": {},
   "outputs": [
    {
     "name": "stdout",
     "output_type": "stream",
     "text": [
      "Average Ratio: 4.182639737888275\n"
     ]
    }
   ],
   "source": [
    "avg_ratio = (one_px_AntBen+one_px_MurRun)/2\n",
    "print('Average Ratio:',avg_ratio)"
   ]
  },
  {
   "cell_type": "markdown",
   "metadata": {},
   "source": [
    "##### Speed of Cyclones"
   ]
  },
  {
   "cell_type": "markdown",
   "metadata": {},
   "source": [
    "Time Interval between Second and third image"
   ]
  },
  {
   "cell_type": "code",
   "execution_count": 13,
   "metadata": {},
   "outputs": [
    {
     "name": "stdout",
     "output_type": "stream",
     "text": [
      "3300 Seconds\n"
     ]
    }
   ],
   "source": [
    "# time on 2.jpg = 14:44am\n",
    "# time on 3.jpg = 15:39am\n",
    "# difference of 55 min = 55x60 sec\n",
    "time_interval = 55*60\n",
    "print(time_interval,\"Seconds\")"
   ]
  },
  {
   "cell_type": "markdown",
   "metadata": {},
   "source": [
    "Speed of belna"
   ]
  },
  {
   "cell_type": "code",
   "execution_count": 14,
   "metadata": {},
   "outputs": [
    {
     "name": "stdout",
     "output_type": "stream",
     "text": [
      "17.60820857171511 m/s\n"
     ]
    }
   ],
   "source": [
    "# Distance travelled by belna in 55 min\n",
    "belna_px_dist_p2top3 = math.sqrt((belna_p2[0]-belna_p3[0])**2 +(belna_p2[1]-belna_p3[1])**2)\n",
    "belna_real_dist_p2top3 = belna_px_dist_p2top3*avg_ratio\n",
    "\n",
    "# print(belna_px_dist_p2p3)\n",
    "# print(belna_real_dist_p2p3)\n",
    "belna_speed = belna_real_dist_p2top3*1000/time_interval\n",
    "print(belna_speed,'m/s')"
   ]
  },
  {
   "cell_type": "markdown",
   "metadata": {},
   "source": [
    "Speed of Ambali"
   ]
  },
  {
   "cell_type": "code",
   "execution_count": 15,
   "metadata": {},
   "outputs": [
    {
     "name": "stdout",
     "output_type": "stream",
     "text": [
      "16.525742448083285 m/s\n"
     ]
    }
   ],
   "source": [
    "# Distance travelled by ambali in 55 min\n",
    "ambali_px_dist_p2top3 = math.sqrt((ambali_p2[0]-ambali_p3[0])**2 +(ambali_p2[1]-ambali_p3[1])**2)\n",
    "ambali_real_dist_p2top3 = ambali_px_dist_p2top3*avg_ratio\n",
    "\n",
    "# print(ambali_px_dist_p2p3)to\n",
    "# print(ambali_real_dist_p2p3)\n",
    "ambali_speed = ambali_real_dist_p2top3*1000/time_interval\n",
    "print(ambali_speed,'m/s')"
   ]
  },
  {
   "cell_type": "markdown",
   "metadata": {},
   "source": [
    "##### Distance between capital Antananarivo and Point of Intersection"
   ]
  },
  {
   "cell_type": "code",
   "execution_count": 16,
   "metadata": {},
   "outputs": [
    {
     "name": "stdout",
     "output_type": "stream",
     "text": [
      "831.6091933917693 km\n"
     ]
    }
   ],
   "source": [
    "px_dist_capital_to_poi = math.sqrt((Antananarivo[0]-poi[0])**2 +(Antananarivo[1]-poi[1])**2)\n",
    "real_dist_capital_to_poi = px_dist_capital_to_poi*avg_ratio\n",
    "\n",
    "print(real_dist_capital_to_poi,'km')"
   ]
  },
  {
   "cell_type": "markdown",
   "metadata": {},
   "source": [
    "##### Time taken to reach point of intersection by each cyclone"
   ]
  },
  {
   "cell_type": "markdown",
   "metadata": {},
   "source": [
    "Time taken by cyclone Belna"
   ]
  },
  {
   "cell_type": "code",
   "execution_count": 17,
   "metadata": {},
   "outputs": [
    {
     "name": "stdout",
     "output_type": "stream",
     "text": [
      "113949 Seconds\n",
      "31 Hour and 39 Min\n"
     ]
    }
   ],
   "source": [
    "# Distance between third point of belna and point of intersection \n",
    "belna_px_dist_p3topoi = math.sqrt((belna_p3[0]-poi[0])**2 +(belna_p3[1]-poi[1])**2)\n",
    "belna_real_dist_p3topoi = belna_px_dist_p3topoi*avg_ratio\n",
    "\n",
    "# print(belna_px_dist_p3topoi,'km')\n",
    "# print(belna_real_dist_p3topoi,'km')\n",
    "belna_time_taken = belna_real_dist_p3topoi*1000/belna_speed\n",
    "print(int(belna_time_taken),'Seconds')\n",
    "print(int(belna_time_taken/3600),'Hour and',int((belna_time_taken%3600)/60),'Min')"
   ]
  },
  {
   "cell_type": "markdown",
   "metadata": {},
   "source": [
    "Time taken by cyclone Ambali"
   ]
  },
  {
   "cell_type": "code",
   "execution_count": 18,
   "metadata": {},
   "outputs": [
    {
     "name": "stdout",
     "output_type": "stream",
     "text": [
      "166113 Seconds\n",
      "46 Hour and 8 Min\n"
     ]
    }
   ],
   "source": [
    "# Distance between third point of ambali and point of intersection \n",
    "ambali_px_dist_p3topoi = math.sqrt((ambali_p3[0]-poi[0])**2 +(ambali_p3[1]-poi[1])**2)\n",
    "ambali_real_dist_p3topoi = ambali_px_dist_p3topoi*avg_ratio\n",
    "\n",
    "# print(ambali_px_dist_p3topoi,'km')\n",
    "# print(ambali_real_dist_p3topoi,'km')\n",
    "ambali_time_taken = ambali_real_dist_p3topoi*1000/ambali_speed\n",
    "print(int(ambali_time_taken),'Seconds')\n",
    "print(int(ambali_time_taken/3600),'Hour and',int((ambali_time_taken%3600)/60),'Min')"
   ]
  },
  {
   "cell_type": "markdown",
   "metadata": {},
   "source": [
    "##### Final Answer"
   ]
  },
  {
   "cell_type": "markdown",
   "metadata": {},
   "source": [
    "The apojuncture for Belna-Ambali will be 831.61km away from the capital city Antananarivo."
   ]
  },
  {
   "cell_type": "markdown",
   "metadata": {},
   "source": [
    "The cyclone Belna is reaching at point of intersection 31 hour and 39 min after the last satellite image capture and the cyclone Ambali is reaching at point of intersection 46 hour and 8 min after the last satellite image capture.  "
   ]
  },
  {
   "cell_type": "markdown",
   "metadata": {},
   "source": [
    "Clearly they will not collide in reality."
   ]
  }
 ],
 "metadata": {
  "kernelspec": {
   "display_name": "Python 3 (ipykernel)",
   "language": "python",
   "name": "python3"
  },
  "language_info": {
   "codemirror_mode": {
    "name": "ipython",
    "version": 3
   },
   "file_extension": ".py",
   "mimetype": "text/x-python",
   "name": "python",
   "nbconvert_exporter": "python",
   "pygments_lexer": "ipython3",
   "version": "3.10.6"
  },
  "vscode": {
   "interpreter": {
    "hash": "fb4569285eef3a3450cb62085a5b1e0da4bce0af555edc33dcf29baf3acc1368"
   }
  }
 },
 "nbformat": 4,
 "nbformat_minor": 2
}
